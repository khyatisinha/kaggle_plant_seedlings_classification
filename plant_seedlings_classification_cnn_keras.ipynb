{
 "cells": [
  {
   "cell_type": "code",
   "execution_count": 1,
   "metadata": {},
   "outputs": [
    {
     "name": "stderr",
     "output_type": "stream",
     "text": [
      "C:\\Users\\Khyati\\Anaconda3\\lib\\site-packages\\h5py\\__init__.py:36: FutureWarning: Conversion of the second argument of issubdtype from `float` to `np.floating` is deprecated. In future, it will be treated as `np.float64 == np.dtype(float).type`.\n",
      "  from ._conv import register_converters as _register_converters\n",
      "Using TensorFlow backend.\n"
     ]
    },
    {
     "name": "stdout",
     "output_type": "stream",
     "text": [
      "Keras version: 2.2.4\n",
      "['Black-grass', 'Charlock', 'Cleavers', 'Common Chickweed', 'Common wheat', 'Fat Hen', 'Loose Silky-bent', 'Maize', 'Scentless Mayweed', 'Shepherds Purse', 'Small-flowered Cranesbill', 'Sugar beet']\n"
     ]
    }
   ],
   "source": [
    "import sys\n",
    "import keras\n",
    "#import tensorflow\n",
    "from keras import backend as K\n",
    "import os\n",
    "\n",
    "print('Keras version:',keras.__version__)\n",
    "\n",
    "# The images are in a folder named './train/train'\n",
    "training_folder_name = \"./train/train\"\n",
    "\n",
    "# All images are 64x64 pixels\n",
    "img_size = (64,64)\n",
    "\n",
    "# The folder contains a subfolder for each class of shape\n",
    "classes = sorted(os.listdir(training_folder_name))\n",
    "print(classes)"
   ]
  },
  {
   "cell_type": "code",
   "execution_count": 2,
   "metadata": {},
   "outputs": [
    {
     "name": "stdout",
     "output_type": "stream",
     "text": [
      "Getting Data...\n",
      "Preparing training dataset...\n",
      "Found 3330 images belonging to 12 classes.\n",
      "Preparing validation dataset...\n",
      "Found 1420 images belonging to 12 classes.\n"
     ]
    }
   ],
   "source": [
    "from keras.preprocessing.image import ImageDataGenerator\n",
    "\n",
    "batch_size = 30\n",
    "\n",
    "print(\"Getting Data...\")\n",
    "datagen = ImageDataGenerator(rescale=1./255, # normalize pixel values\n",
    "                             horizontal_flip=True, # Flip some images at random\n",
    "                             validation_split=0.3) # hold back 30% of the images for validation\n",
    "\n",
    "print(\"Preparing training dataset...\")\n",
    "train_generator = datagen.flow_from_directory(\n",
    "    training_folder_name,\n",
    "    target_size=img_size,\n",
    "    batch_size=batch_size,\n",
    "    class_mode='categorical',\n",
    "    subset='training') # set as training data\n",
    "\n",
    "print(\"Preparing validation dataset...\")\n",
    "validation_generator = datagen.flow_from_directory(\n",
    "    training_folder_name,\n",
    "    target_size=img_size,\n",
    "    batch_size=batch_size,\n",
    "    class_mode='categorical',\n",
    "    subset='validation') # set as validation data\n"
   ]
  },
  {
   "cell_type": "code",
   "execution_count": 3,
   "metadata": {},
   "outputs": [
    {
     "name": "stdout",
     "output_type": "stream",
     "text": [
      "_________________________________________________________________\n",
      "Layer (type)                 Output Shape              Param #   \n",
      "=================================================================\n",
      "conv2d_1 (Conv2D)            (None, 59, 59, 32)        3488      \n",
      "_________________________________________________________________\n",
      "max_pooling2d_1 (MaxPooling2 (None, 29, 29, 32)        0         \n",
      "_________________________________________________________________\n",
      "conv2d_2 (Conv2D)            (None, 24, 24, 32)        36896     \n",
      "_________________________________________________________________\n",
      "max_pooling2d_2 (MaxPooling2 (None, 12, 12, 32)        0         \n",
      "_________________________________________________________________\n",
      "dropout_1 (Dropout)          (None, 12, 12, 32)        0         \n",
      "_________________________________________________________________\n",
      "flatten_1 (Flatten)          (None, 4608)              0         \n",
      "_________________________________________________________________\n",
      "dense_1 (Dense)              (None, 12)                55308     \n",
      "=================================================================\n",
      "Total params: 95,692\n",
      "Trainable params: 95,692\n",
      "Non-trainable params: 0\n",
      "_________________________________________________________________\n",
      "None\n"
     ]
    }
   ],
   "source": [
    "# Define a CNN classifier network\n",
    "from keras.models import Sequential\n",
    "from keras.layers import Conv2D, MaxPooling2D, Dropout\n",
    "from keras.layers import Activation, Flatten, Dense\n",
    "from keras import optimizers\n",
    "\n",
    "# Define the model as a sequence of layers\n",
    "model = Sequential()\n",
    "\n",
    "# The input layer accepts an image and applies a convolution that uses 32 6x6 filters and a rectified linear unit activation function\n",
    "model.add(Conv2D(32, (6, 6), input_shape=train_generator.image_shape, activation='relu'))\n",
    "\n",
    "# Next we'll add a max pooling layer with a 2x2 patch\n",
    "model.add(MaxPooling2D(pool_size=(2,2)))\n",
    "\n",
    "# We can add as many layers as we think necessary - here we'll add another convolution layer and another and max poolinglayer\n",
    "model.add(Conv2D(32, (6, 6), activation='relu'))\n",
    "model.add(MaxPooling2D(pool_size=(2, 2)))\n",
    "\n",
    "# A dropout layer randomly drops some features to reduce inter-dependencies (which can cause over-fitting)\n",
    "model.add(Dropout(0.3))\n",
    "\n",
    "# Now we'll flatten the feature maps and generate an output layer with a predicted probability for each class\n",
    "model.add(Flatten())\n",
    "model.add(Dense(train_generator.num_classes, activation='softmax'))\n",
    "\n",
    "# We'll use the ADAM optimizer\n",
    "opt = optimizers.Adam(lr=0.001)\n",
    "\n",
    "# With the layers defined, we can now compile the model for categorical (multi-class) classification\n",
    "model.compile(loss='categorical_crossentropy',\n",
    "              optimizer=opt,\n",
    "              metrics=['accuracy'])\n",
    "\n",
    "print(model.summary())"
   ]
  },
  {
   "cell_type": "code",
   "execution_count": 4,
   "metadata": {},
   "outputs": [
    {
     "name": "stdout",
     "output_type": "stream",
     "text": [
      "Epoch 1/40\n",
      "111/111 [==============================] - 123s 1s/step - loss: 2.2512 - acc: 0.2207 - val_loss: 1.8413 - val_acc: 0.3709\n",
      "Epoch 2/40\n",
      "111/111 [==============================] - 82s 738ms/step - loss: 1.7421 - acc: 0.3778 - val_loss: 1.5296 - val_acc: 0.4604\n",
      "Epoch 3/40\n",
      "111/111 [==============================] - 70s 628ms/step - loss: 1.4705 - acc: 0.4904 - val_loss: 1.3656 - val_acc: 0.5259\n",
      "Epoch 4/40\n",
      "111/111 [==============================] - 65s 585ms/step - loss: 1.3573 - acc: 0.5336 - val_loss: 1.1964 - val_acc: 0.6151\n",
      "Epoch 5/40\n",
      "111/111 [==============================] - 66s 592ms/step - loss: 1.1822 - acc: 0.5982 - val_loss: 1.2690 - val_acc: 0.5561\n",
      "Epoch 6/40\n",
      "111/111 [==============================] - 65s 589ms/step - loss: 1.0970 - acc: 0.6378 - val_loss: 1.0850 - val_acc: 0.6266\n",
      "Epoch 7/40\n",
      "111/111 [==============================] - 74s 663ms/step - loss: 1.0098 - acc: 0.6571 - val_loss: 0.9849 - val_acc: 0.7000\n",
      "Epoch 8/40\n",
      "111/111 [==============================] - 69s 619ms/step - loss: 0.9407 - acc: 0.6853 - val_loss: 0.9449 - val_acc: 0.7144\n",
      "Epoch 9/40\n",
      "111/111 [==============================] - 65s 586ms/step - loss: 0.9288 - acc: 0.6937 - val_loss: 0.9374 - val_acc: 0.6906\n",
      "Epoch 10/40\n",
      "111/111 [==============================] - 65s 584ms/step - loss: 0.8826 - acc: 0.6994 - val_loss: 0.9513 - val_acc: 0.6835\n",
      "Epoch 11/40\n",
      "111/111 [==============================] - 66s 590ms/step - loss: 0.8533 - acc: 0.7177 - val_loss: 0.9704 - val_acc: 0.6734\n",
      "Epoch 12/40\n",
      "111/111 [==============================] - 65s 588ms/step - loss: 0.8271 - acc: 0.7234 - val_loss: 0.9378 - val_acc: 0.7050\n",
      "Epoch 13/40\n",
      "111/111 [==============================] - 66s 592ms/step - loss: 0.8241 - acc: 0.7177 - val_loss: 0.8957 - val_acc: 0.7043\n",
      "Epoch 14/40\n",
      "111/111 [==============================] - 65s 586ms/step - loss: 0.7914 - acc: 0.7324 - val_loss: 0.8324 - val_acc: 0.7309\n",
      "Epoch 15/40\n",
      "111/111 [==============================] - 94s 846ms/step - loss: 0.7667 - acc: 0.7423 - val_loss: 0.9126 - val_acc: 0.6928\n",
      "Epoch 16/40\n",
      "111/111 [==============================] - 87s 781ms/step - loss: 0.7863 - acc: 0.7372 - val_loss: 0.9439 - val_acc: 0.6842\n",
      "Epoch 17/40\n",
      "111/111 [==============================] - 86s 773ms/step - loss: 0.7452 - acc: 0.7471 - val_loss: 0.8319 - val_acc: 0.7216\n",
      "Epoch 18/40\n",
      "111/111 [==============================] - 88s 790ms/step - loss: 0.7260 - acc: 0.7574 - val_loss: 0.9855 - val_acc: 0.6705\n",
      "Epoch 19/40\n",
      "111/111 [==============================] - 86s 775ms/step - loss: 0.7010 - acc: 0.7739 - val_loss: 0.9043 - val_acc: 0.7245\n",
      "Epoch 20/40\n",
      "111/111 [==============================] - 86s 772ms/step - loss: 0.6898 - acc: 0.7649 - val_loss: 0.8960 - val_acc: 0.7331\n",
      "Epoch 21/40\n",
      "111/111 [==============================] - 105s 946ms/step - loss: 0.6668 - acc: 0.7646 - val_loss: 0.7859 - val_acc: 0.7331\n",
      "Epoch 22/40\n",
      "111/111 [==============================] - 132s 1s/step - loss: 0.6517 - acc: 0.7760 - val_loss: 0.7869 - val_acc: 0.7576\n",
      "Epoch 23/40\n",
      "111/111 [==============================] - 255s 2s/step - loss: 0.6560 - acc: 0.7805 - val_loss: 0.9201 - val_acc: 0.7259\n",
      "Epoch 24/40\n",
      "111/111 [==============================] - 146s 1s/step - loss: 0.6574 - acc: 0.7667 - val_loss: 0.8136 - val_acc: 0.7482\n",
      "Epoch 25/40\n",
      "111/111 [==============================] - 109s 979ms/step - loss: 0.6435 - acc: 0.7823 - val_loss: 0.7854 - val_acc: 0.7475\n",
      "Epoch 26/40\n",
      "111/111 [==============================] - 98s 885ms/step - loss: 0.6148 - acc: 0.7964 - val_loss: 0.8663 - val_acc: 0.7144\n",
      "Epoch 27/40\n",
      "111/111 [==============================] - 71s 644ms/step - loss: 0.6073 - acc: 0.7901 - val_loss: 0.7067 - val_acc: 0.7626\n",
      "Epoch 28/40\n",
      "111/111 [==============================] - 82s 742ms/step - loss: 0.6051 - acc: 0.7904 - val_loss: 0.8912 - val_acc: 0.7115\n",
      "Epoch 29/40\n",
      "111/111 [==============================] - 78s 699ms/step - loss: 0.6296 - acc: 0.7844 - val_loss: 0.7814 - val_acc: 0.7482\n",
      "Epoch 30/40\n",
      "111/111 [==============================] - 74s 664ms/step - loss: 0.5660 - acc: 0.8030 - val_loss: 0.8013 - val_acc: 0.7511\n",
      "Epoch 31/40\n",
      "111/111 [==============================] - 67s 604ms/step - loss: 0.5573 - acc: 0.8138 - val_loss: 0.8875 - val_acc: 0.7151\n",
      "Epoch 32/40\n",
      "111/111 [==============================] - 68s 609ms/step - loss: 0.5401 - acc: 0.8156 - val_loss: 0.7708 - val_acc: 0.7561\n",
      "Epoch 33/40\n",
      "111/111 [==============================] - 66s 594ms/step - loss: 0.5343 - acc: 0.8141 - val_loss: 0.8414 - val_acc: 0.7374\n",
      "Epoch 34/40\n",
      "111/111 [==============================] - 65s 585ms/step - loss: 0.5373 - acc: 0.8174 - val_loss: 0.7515 - val_acc: 0.7712\n",
      "Epoch 35/40\n",
      "111/111 [==============================] - 65s 582ms/step - loss: 0.5317 - acc: 0.8159 - val_loss: 0.8658 - val_acc: 0.7396\n",
      "Epoch 36/40\n",
      "111/111 [==============================] - 63s 568ms/step - loss: 0.5015 - acc: 0.8231 - val_loss: 0.8460 - val_acc: 0.7547\n",
      "Epoch 37/40\n",
      "111/111 [==============================] - 63s 570ms/step - loss: 0.4967 - acc: 0.8252 - val_loss: 0.7723 - val_acc: 0.7460\n",
      "Epoch 38/40\n",
      "111/111 [==============================] - 64s 577ms/step - loss: 0.5043 - acc: 0.8306 - val_loss: 0.8106 - val_acc: 0.7669\n",
      "Epoch 39/40\n",
      "111/111 [==============================] - 63s 566ms/step - loss: 0.4820 - acc: 0.8273 - val_loss: 0.7338 - val_acc: 0.7734\n",
      "Epoch 40/40\n",
      "111/111 [==============================] - 64s 581ms/step - loss: 0.4880 - acc: 0.8339 - val_loss: 0.7942 - val_acc: 0.7475\n"
     ]
    }
   ],
   "source": [
    "num_epochs = 40\n",
    "history = model.fit_generator(\n",
    "    train_generator,\n",
    "    steps_per_epoch = train_generator.samples // batch_size,\n",
    "    validation_data = validation_generator, \n",
    "    validation_steps = validation_generator.samples // batch_size,\n",
    "    epochs = num_epochs)"
   ]
  },
  {
   "cell_type": "code",
   "execution_count": 5,
   "metadata": {},
   "outputs": [
    {
     "data": {
      "image/png": "[encoded data removed]",
      "text/plain": [
       "<Figure size 432x288 with 1 Axes>"
      ]
     },
     "metadata": {},
     "output_type": "display_data"
    }
   ],
   "source": [
    "%matplotlib inline\n",
    "from matplotlib import pyplot as plt\n",
    "\n",
    "epoch_nums = range(1,num_epochs+1)\n",
    "training_loss = history.history[\"loss\"]\n",
    "validation_loss = history.history[\"val_loss\"]\n",
    "plt.plot(epoch_nums, training_loss)\n",
    "plt.plot(epoch_nums, validation_loss)\n",
    "plt.xlabel('epoch')\n",
    "plt.ylabel('loss')\n",
    "plt.legend(['training', 'validation'], loc='upper right')\n",
    "plt.show()"
   ]
  }
 ],
 "metadata": {
  "kernelspec": {
   "display_name": "Python 3",
   "language": "python",
   "name": "python3"
  },
  "language_info": {
   "codemirror_mode": {
    "name": "ipython",
    "version": 3
   },
   "file_extension": ".py",
   "mimetype": "text/x-python",
   "name": "python",
   "nbconvert_exporter": "python",
   "pygments_lexer": "ipython3",
   "version": "3.6.5"
  }
 },
 "nbformat": 4,
 "nbformat_minor": 2
}
